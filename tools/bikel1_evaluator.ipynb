{
 "cells": [
  {
   "cell_type": "code",
   "execution_count": null,
   "metadata": {},
   "outputs": [],
   "source": [
    "%pip install matplotlib"
   ]
  },
  {
   "cell_type": "code",
   "execution_count": null,
   "metadata": {},
   "outputs": [],
   "source": [
    "\n",
    "import json\n",
    "import matplotlib.pyplot as plt "
   ]
  },
  {
   "cell_type": "code",
   "execution_count": null,
   "metadata": {},
   "outputs": [],
   "source": [
    "\n",
    "fname = \"../dp_json/bikel1_2024-04-23T01:25:52.729824.json\"  # long run (nothing found)\n",
    "fname = \"../dp_json/bikel1_2024-04-23T14:56:55.780784.json\"  # another long run (nothing found)\n",
    "fname = \"../dp_json/bikel1_2024-04-28T18:11:56.283876.json\"\n",
    "fname = \"../dp_json/bikel1_2024-05-05T03:02:05.565354.json\"\n"
   ]
  },
  {
   "cell_type": "code",
   "execution_count": null,
   "metadata": {},
   "outputs": [],
   "source": [
    "with open(fname, \"r\") as fp:\n",
    "    data = json.load(fp)\n",
    "experiments = data['experiments']\n",
    "settings = data['settings']\n",
    "print(settings)\n",
    "\n",
    "weights = [experiment['hw_h0'] if 'hw_h0' in experiment else -1 for experiment in experiments]\n",
    "print(weights)\n",
    "\n",
    "fig = plt.figure(figsize = (10, 5))\n",
    "\n",
    "# creating the bar plot\n",
    "plt.bar([i for i in range(len(weights))], weights, width = 0.6)\n",
    "    \n",
    "plt.xlabel(\"Experiment #\")\n",
    "plt.ylabel(\"H0 Weight\")\n",
    "plt.title(\"BIKE L1 H0 Weights\")\n",
    "plt.show()"
   ]
  }
 ],
 "metadata": {
  "kernelspec": {
   "display_name": "EM-Fault-It-Yourself",
   "language": "python",
   "name": "python3"
  },
  "language_info": {
   "codemirror_mode": {
    "name": "ipython",
    "version": 3
   },
   "file_extension": ".py",
   "mimetype": "text/x-python",
   "name": "python",
   "nbconvert_exporter": "python",
   "pygments_lexer": "ipython3",
   "version": "3.9.2"
  }
 },
 "nbformat": 4,
 "nbformat_minor": 2
}
