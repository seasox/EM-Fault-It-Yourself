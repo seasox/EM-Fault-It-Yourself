{
 "cells": [
  {
   "cell_type": "code",
   "execution_count": null,
   "metadata": {},
   "outputs": [],
   "source": [
    "from glob import glob\n",
    "import json"
   ]
  },
  {
   "cell_type": "code",
   "execution_count": null,
   "metadata": {},
   "outputs": [],
   "source": [
    "files = sorted(glob(\"../dp_json/*.json\"))\n",
    "files"
   ]
  },
  {
   "cell_type": "code",
   "execution_count": null,
   "metadata": {},
   "outputs": [],
   "source": [
    "broken_data = []\n",
    "for f in files:\n",
    "    with open(f, \"r\") as fp:\n",
    "        try:\n",
    "            j = json.load(fp)\n",
    "        except Exception as e:\n",
    "            fp.seek(0)\n",
    "            print(f\"Failed to load JSON file {f}.\")\n",
    "            print(\"Reason: \" + str(e))\n",
    "            broken_data.append(f)\n",
    "            continue\n",
    "        if j == [] or j == {}:\n",
    "            print(f\"Empty JSON: {f}\")\n",
    "            broken_data.append(f)\n",
    "        \n",
    "if broken_data:\n",
    "    print('rm ' + ' '.join(f'\"{d}\"' for d in broken_data))\n",
    "else:\n",
    "    print(\"Jolly good!\")"
   ]
  }
 ],
 "metadata": {
  "kernelspec": {
   "display_name": ".venv",
   "language": "python",
   "name": "python3"
  },
  "language_info": {
   "codemirror_mode": {
    "name": "ipython",
    "version": 3
   },
   "file_extension": ".py",
   "mimetype": "text/x-python",
   "name": "python",
   "nbconvert_exporter": "python",
   "pygments_lexer": "ipython3",
   "version": "3.9.2"
  }
 },
 "nbformat": 4,
 "nbformat_minor": 2
}
