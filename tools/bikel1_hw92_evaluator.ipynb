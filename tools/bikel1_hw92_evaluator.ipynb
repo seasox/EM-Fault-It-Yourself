{
 "cells": [
  {
   "cell_type": "code",
   "execution_count": null,
   "metadata": {},
   "outputs": [],
   "source": [
    "from glob import glob\n",
    "import json\n",
    "import matplotlib.pyplot as plt"
   ]
  },
  {
   "cell_type": "code",
   "execution_count": null,
   "metadata": {},
   "outputs": [],
   "source": [
    "files = sorted(glob(\"../dp_json/sk_2024-01-18*.json\"))\n",
    "files"
   ]
  },
  {
   "cell_type": "code",
   "execution_count": null,
   "metadata": {},
   "outputs": [],
   "source": [
    "experiments = []\n",
    "for file in files:\n",
    "    with open(file, \"r\") as fp:\n",
    "        d = json.load(fp)\n",
    "        experiments.append(d)\n",
    "        \n",
    "experiments"
   ]
  },
  {
   "cell_type": "code",
   "execution_count": null,
   "metadata": {},
   "outputs": [],
   "source": [
    "weights = [experiment['hw_h0'] if 'hw_h0' in experiment else -1 for experiment in experiments]\n",
    "print(weights)\n",
    "\n",
    "fig = plt.figure(figsize = (10, 5))\n",
    "\n",
    "# creating the bar plot\n",
    "plt.bar([i for i in range(len(weights))], weights, width = 0.6)\n",
    "    \n",
    "plt.xlabel(\"Experiment #\")\n",
    "plt.ylabel(\"H0 Weight\")\n",
    "plt.title(\"BIKE L1 H0 Weights\")\n",
    "plt.show()"
   ]
  }
 ],
 "metadata": {
  "kernelspec": {
   "display_name": ".venv",
   "language": "python",
   "name": "python3"
  },
  "language_info": {
   "codemirror_mode": {
    "name": "ipython",
    "version": 3
   },
   "file_extension": ".py",
   "mimetype": "text/x-python",
   "name": "python",
   "nbconvert_exporter": "python",
   "pygments_lexer": "ipython3",
   "version": "3.9.2"
  }
 },
 "nbformat": 4,
 "nbformat_minor": 2
}
